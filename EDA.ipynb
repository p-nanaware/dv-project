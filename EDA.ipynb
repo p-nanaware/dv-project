{
 "cells": [
  {
   "cell_type": "code",
   "execution_count": 1,
   "id": "260b19a2",
   "metadata": {},
   "outputs": [],
   "source": [
    "import pandas as pd\n",
    "import numpy as np"
   ]
  },
  {
   "cell_type": "code",
   "execution_count": 2,
   "metadata": {},
   "outputs": [],
   "source": [
    "def findMissing(data):\n",
    "    print(f'Total Rows: {data.shape[0]}\\n')\n",
    "    for c in data.columns:\n",
    "        missing = data.shape[0] - data[c].describe().loc['count']\n",
    "        if missing>0:\n",
    "            print('-----------------------')\n",
    "            print(c)\n",
    "            print('-----------------------')\n",
    "            print(data[c].describe())\n",
    "            print(f'\\nMissing Values: {int(missing)}\\n')"
   ]
  },
  {
   "cell_type": "code",
   "execution_count": 3,
   "id": "16612c29",
   "metadata": {},
   "outputs": [],
   "source": [
    "netflix_data = pd.read_csv('./data/netflix_titles.csv')\n",
    "hulu_data = pd.read_csv('./data/hulu_titles.csv')\n",
    "disney_plus_data = pd.read_csv('./data/disney_plus_titles.csv')\n",
    "amazon_prime_data = pd.read_csv('./data/amazon_prime_titles.csv')"
   ]
  },
  {
   "cell_type": "code",
   "execution_count": 4,
   "metadata": {},
   "outputs": [],
   "source": [
    "netflix_data['platform'] = 'Netflix'\n",
    "hulu_data['platform'] = 'Hulu'\n",
    "disney_plus_data['platform'] = 'Disney'\n",
    "amazon_prime_data['platform'] = 'Amazon Prime Video'"
   ]
  },
  {
   "cell_type": "code",
   "execution_count": 5,
   "id": "7ed93954",
   "metadata": {},
   "outputs": [],
   "source": [
    "data = pd.concat([netflix_data, hulu_data, disney_plus_data, amazon_prime_data])"
   ]
  },
  {
   "cell_type": "code",
   "execution_count": 6,
   "id": "c0abc427",
   "metadata": {},
   "outputs": [
    {
     "name": "stdout",
     "output_type": "stream",
     "text": [
      "Total Rows: 22998\n",
      "\n",
      "-----------------------\n",
      "country\n",
      "-----------------------\n",
      "count             11499\n",
      "unique              886\n",
      "top       United States\n",
      "freq               4997\n",
      "Name: country, dtype: object\n",
      "\n",
      "Missing Values: 11499\n",
      "\n",
      "-----------------------\n",
      "duration\n",
      "-----------------------\n",
      "count        22516\n",
      "unique         253\n",
      "top       1 Season\n",
      "freq          4183\n",
      "Name: duration, dtype: object\n",
      "\n",
      "Missing Values: 482\n",
      "\n"
     ]
    }
   ],
   "source": [
    "data = data.drop(columns=['description', 'rating', 'cast', 'director', 'date_added'])\n",
    "findMissing(data)"
   ]
  },
  {
   "cell_type": "code",
   "execution_count": 7,
   "id": "3e01c7d5",
   "metadata": {},
   "outputs": [],
   "source": [
    "data['country'].replace([np.nan], 'worldwide', inplace=True)"
   ]
  },
  {
   "cell_type": "code",
   "execution_count": 8,
   "metadata": {},
   "outputs": [
    {
     "name": "stdout",
     "output_type": "stream",
     "text": [
      "Total Rows: 22998\n",
      "\n",
      "-----------------------\n",
      "duration\n",
      "-----------------------\n",
      "count        22516\n",
      "unique         253\n",
      "top       1 Season\n",
      "freq          4183\n",
      "Name: duration, dtype: object\n",
      "\n",
      "Missing Values: 482\n",
      "\n"
     ]
    }
   ],
   "source": [
    "findMissing(data)"
   ]
  },
  {
   "cell_type": "code",
   "execution_count": 9,
   "metadata": {},
   "outputs": [],
   "source": [
    "data = data.dropna(subset=['duration'])"
   ]
  },
  {
   "cell_type": "code",
   "execution_count": 10,
   "metadata": {},
   "outputs": [
    {
     "name": "stdout",
     "output_type": "stream",
     "text": [
      "Total Rows: 22516\n",
      "\n"
     ]
    }
   ],
   "source": [
    "findMissing(data)"
   ]
  },
  {
   "cell_type": "code",
   "execution_count": 11,
   "metadata": {},
   "outputs": [],
   "source": [
    "data.to_csv('./data/clean_data.csv')"
   ]
  },
  {
   "cell_type": "code",
   "execution_count": null,
   "metadata": {},
   "outputs": [],
   "source": []
  }
 ],
 "metadata": {
  "kernelspec": {
   "display_name": "Python 3 (ipykernel)",
   "language": "python",
   "name": "python3"
  },
  "language_info": {
   "codemirror_mode": {
    "name": "ipython",
    "version": 3
   },
   "file_extension": ".py",
   "mimetype": "text/x-python",
   "name": "python",
   "nbconvert_exporter": "python",
   "pygments_lexer": "ipython3",
   "version": "3.11.6"
  }
 },
 "nbformat": 4,
 "nbformat_minor": 5
}
