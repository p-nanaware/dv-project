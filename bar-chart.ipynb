{
 "cells": [
  {
   "cell_type": "code",
   "execution_count": 2,
   "metadata": {},
   "outputs": [
    {
     "name": "stdout",
     "output_type": "stream",
     "text": [
      "JSON file has been created successfully.\n"
     ]
    }
   ],
   "source": [
    "import csv\n",
    "import json\n",
    "\n",
    "# Read the CSV file\n",
    "csv_file_path = 'data/clean_data.csv'  # Replace with the actual path to your CSV file\n",
    "with open(csv_file_path, 'r', encoding='utf-8') as file:\n",
    "    csv_reader = csv.DictReader(file)\n",
    "    data = list(csv_reader)\n",
    "\n",
    "# Count entries for each release year on each platform\n",
    "platform_year_count = {}\n",
    "for row in data:\n",
    "    platform = row['platform']\n",
    "    release_year = int(row['release_year'])\n",
    "    \n",
    "    if platform not in platform_year_count:\n",
    "        platform_year_count[platform] = {}\n",
    "    \n",
    "    if release_year not in platform_year_count[platform]:\n",
    "        platform_year_count[platform][release_year] = 1\n",
    "    else:\n",
    "        platform_year_count[platform][release_year] += 1\n",
    "\n",
    "# Convert the result to the requested JSON format\n",
    "json_result = json.dumps(platform_year_count, indent=2)\n",
    "\n",
    "# Output the result to a JSON file\n",
    "output_json_path = 'data/platform_count.json'  # Replace with the desired output path\n",
    "with open(output_json_path, 'w', encoding='utf-8') as json_file:\n",
    "    json_file.write(json_result)\n",
    "\n",
    "print(\"JSON file has been created successfully.\")\n"
   ]
  }
 ],
 "metadata": {
  "kernelspec": {
   "display_name": "Python 3",
   "language": "python",
   "name": "python3"
  },
  "language_info": {
   "codemirror_mode": {
    "name": "ipython",
    "version": 3
   },
   "file_extension": ".py",
   "mimetype": "text/x-python",
   "name": "python",
   "nbconvert_exporter": "python",
   "pygments_lexer": "ipython3",
   "version": "3.11.6"
  }
 },
 "nbformat": 4,
 "nbformat_minor": 2
}
